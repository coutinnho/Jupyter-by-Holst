{
 "cells": [
  {
   "cell_type": "code",
   "execution_count": 2,
   "metadata": {},
   "outputs": [
    {
     "name": "stdout",
     "output_type": "stream",
     "text": [
      "Requirement already satisfied: pygrib in c:\\users\\kt8711co\\anaconda3\\envs\\machinelearning\\lib\\site-packages (2.1.6)\n",
      "Requirement already satisfied: packaging in c:\\users\\kt8711co\\appdata\\roaming\\python\\python312\\site-packages (from pygrib) (23.2)\n",
      "Requirement already satisfied: pyproj in c:\\users\\kt8711co\\anaconda3\\envs\\machinelearning\\lib\\site-packages (from pygrib) (3.7.0)\n",
      "Requirement already satisfied: numpy in c:\\users\\kt8711co\\anaconda3\\envs\\machinelearning\\lib\\site-packages (from pygrib) (1.26.4)\n",
      "Requirement already satisfied: certifi in c:\\users\\kt8711co\\anaconda3\\envs\\machinelearning\\lib\\site-packages (from pyproj->pygrib) (2024.8.30)\n",
      "Note: you may need to restart the kernel to use updated packages.\n"
     ]
    }
   ],
   "source": [
    "%pip install pygrib"
   ]
  },
  {
   "cell_type": "code",
   "execution_count": 1,
   "metadata": {},
   "outputs": [],
   "source": [
    "from datetime import timedelta\n",
    "import pygrib\n",
    "import pandas as pd\n",
    "\n",
    "#time_diff = timedelta(hours=9)\n",
    "\n",
    "gpv_file = pygrib.open(\"WT_20240301_FD01.grib2.bin\")"
   ]
  },
  {
   "cell_type": "code",
   "execution_count": 2,
   "metadata": {},
   "outputs": [
    {
     "data": {
      "text/plain": [
       "[1:Water temperature:K (avg):regular_ll:depthBelowSea:level 1.0:fcst time 0-24 hrs (avg):from 202402290000,\n",
       " 2:Water temperature:K (avg):regular_ll:depthBelowSea:level 3.5:fcst time 0-24 hrs (avg):from 202402290000,\n",
       " 3:Water temperature:K (avg):regular_ll:depthBelowSea:level 6.5:fcst time 0-24 hrs (avg):from 202402290000,\n",
       " 4:Water temperature:K (avg):regular_ll:depthBelowSea:level 10.0:fcst time 0-24 hrs (avg):from 202402290000,\n",
       " 5:Water temperature:K (avg):regular_ll:depthBelowSea:level 15.0:fcst time 0-24 hrs (avg):from 202402290000,\n",
       " 6:Water temperature:K (avg):regular_ll:depthBelowSea:level 22.0:fcst time 0-24 hrs (avg):from 202402290000,\n",
       " 7:Water temperature:K (avg):regular_ll:depthBelowSea:level 30.5:fcst time 0-24 hrs (avg):from 202402290000,\n",
       " 8:Water temperature:K (avg):regular_ll:depthBelowSea:level 40.0:fcst time 0-24 hrs (avg):from 202402290000,\n",
       " 9:Water temperature:K (avg):regular_ll:depthBelowSea:level 50.0:fcst time 0-24 hrs (avg):from 202402290000,\n",
       " 10:Water temperature:K (avg):regular_ll:depthBelowSea:level 60.0:fcst time 0-24 hrs (avg):from 202402290000,\n",
       " 11:Water temperature:K (avg):regular_ll:depthBelowSea:level 70.0:fcst time 0-24 hrs (avg):from 202402290000,\n",
       " 12:Water temperature:K (avg):regular_ll:depthBelowSea:level 80.0:fcst time 0-24 hrs (avg):from 202402290000,\n",
       " 13:Water temperature:K (avg):regular_ll:depthBelowSea:level 90.0:fcst time 0-24 hrs (avg):from 202402290000,\n",
       " 14:Water temperature:K (avg):regular_ll:depthBelowSea:level 100.0:fcst time 0-24 hrs (avg):from 202402290000,\n",
       " 15:Water temperature:K (avg):regular_ll:depthBelowSea:level 110.0:fcst time 0-24 hrs (avg):from 202402290000,\n",
       " 16:Water temperature:K (avg):regular_ll:depthBelowSea:level 120.0:fcst time 0-24 hrs (avg):from 202402290000,\n",
       " 17:Water temperature:K (avg):regular_ll:depthBelowSea:level 130.0:fcst time 0-24 hrs (avg):from 202402290000,\n",
       " 18:Water temperature:K (avg):regular_ll:depthBelowSea:level 140.0:fcst time 0-24 hrs (avg):from 202402290000,\n",
       " 19:Water temperature:K (avg):regular_ll:depthBelowSea:level 150.0:fcst time 0-24 hrs (avg):from 202402290000,\n",
       " 20:Water temperature:K (avg):regular_ll:depthBelowSea:level 160.0:fcst time 0-24 hrs (avg):from 202402290000,\n",
       " 21:Water temperature:K (avg):regular_ll:depthBelowSea:level 170.0:fcst time 0-24 hrs (avg):from 202402290000,\n",
       " 22:Water temperature:K (avg):regular_ll:depthBelowSea:level 180.0:fcst time 0-24 hrs (avg):from 202402290000,\n",
       " 23:Water temperature:K (avg):regular_ll:depthBelowSea:level 190.0:fcst time 0-24 hrs (avg):from 202402290000,\n",
       " 24:Water temperature:K (avg):regular_ll:depthBelowSea:level 200.0:fcst time 0-24 hrs (avg):from 202402290000,\n",
       " 25:Water temperature:K (avg):regular_ll:depthBelowSea:level 212.5:fcst time 0-24 hrs (avg):from 202402290000,\n",
       " 26:Water temperature:K (avg):regular_ll:depthBelowSea:level 230.0:fcst time 0-24 hrs (avg):from 202402290000,\n",
       " 27:Water temperature:K (avg):regular_ll:depthBelowSea:level 250.0:fcst time 0-24 hrs (avg):from 202402290000,\n",
       " 28:Water temperature:K (avg):regular_ll:depthBelowSea:level 272.5:fcst time 0-24 hrs (avg):from 202402290000,\n",
       " 29:Water temperature:K (avg):regular_ll:depthBelowSea:level 300.0:fcst time 0-24 hrs (avg):from 202402290000,\n",
       " 30:Water temperature:K (avg):regular_ll:depthBelowSea:level 330.0:fcst time 0-24 hrs (avg):from 202402290000,\n",
       " 31:Water temperature:K (avg):regular_ll:depthBelowSea:level 362.5:fcst time 0-24 hrs (avg):from 202402290000,\n",
       " 32:Water temperature:K (avg):regular_ll:depthBelowSea:level 400.0:fcst time 0-24 hrs (avg):from 202402290000,\n",
       " 33:Water temperature:K (avg):regular_ll:depthBelowSea:level 440.0:fcst time 0-24 hrs (avg):from 202402290000,\n",
       " 34:Water temperature:K (avg):regular_ll:depthBelowSea:level 485.0:fcst time 0-24 hrs (avg):from 202402290000,\n",
       " 35:Water temperature:K (avg):regular_ll:depthBelowSea:level 540.0:fcst time 0-24 hrs (avg):from 202402290000,\n",
       " 36:Water temperature:K (avg):regular_ll:depthBelowSea:level 600.0:fcst time 0-24 hrs (avg):from 202402290000,\n",
       " 37:Water temperature:K (avg):regular_ll:depthBelowSea:level 665.0:fcst time 0-24 hrs (avg):from 202402290000,\n",
       " 38:Water temperature:K (avg):regular_ll:depthBelowSea:level 740.0:fcst time 0-24 hrs (avg):from 202402290000,\n",
       " 39:Water temperature:K (avg):regular_ll:depthBelowSea:level 820.0:fcst time 0-24 hrs (avg):from 202402290000,\n",
       " 40:Water temperature:K (avg):regular_ll:depthBelowSea:level 905.0:fcst time 0-24 hrs (avg):from 202402290000,\n",
       " 41:Water temperature:K (avg):regular_ll:depthBelowSea:level 1000.0:fcst time 0-24 hrs (avg):from 202402290000]"
      ]
     },
     "execution_count": 2,
     "metadata": {},
     "output_type": "execute_result"
    }
   ],
   "source": [
    "grbs = gpv_file.select(typeOfLevel=\"depthBelowSea\")\n",
    "grbs"
   ]
  },
  {
   "cell_type": "code",
   "execution_count": 3,
   "metadata": {},
   "outputs": [
    {
     "name": "stdout",
     "output_type": "stream",
     "text": [
      "   validDate  depthBelowSea  \\\n",
      "3 2024-02-29             10   \n",
      "4 2024-02-29             15   \n",
      "5 2024-02-29             22   \n",
      "6 2024-02-29             31   \n",
      "7 2024-02-29             40   \n",
      "8 2024-02-29             50   \n",
      "\n",
      "                                                lats  \\\n",
      "3  [33.0, 33.0, 33.0, 33.0, 33.0, 33.0, 33.0, 33....   \n",
      "4  [33.0, 33.0, 33.0, 33.0, 33.0, 33.0, 33.0, 33....   \n",
      "5  [33.0, 33.0, 33.0, 33.0, 33.0, 33.0, 33.0, 33....   \n",
      "6  [33.0, 33.0, 33.0, 33.0, 33.0, 33.0, 33.0, 33....   \n",
      "7  [33.0, 33.0, 33.0, 33.0, 33.0, 33.0, 33.0, 33....   \n",
      "8  [33.0, 33.0, 33.0, 33.0, 33.0, 33.0, 33.0, 33....   \n",
      "\n",
      "                                                lons  \\\n",
      "3  [134.0, 134.03030301538462, 134.06060603076924...   \n",
      "4  [134.0, 134.03030301538462, 134.06060603076924...   \n",
      "5  [134.0, 134.03030301538462, 134.06060603076924...   \n",
      "6  [134.0, 134.03030301538462, 134.06060603076924...   \n",
      "7  [134.0, 134.03030301538462, 134.06060603076924...   \n",
      "8  [134.0, 134.03030301538462, 134.06060603076924...   \n",
      "\n",
      "                                         temperature  \n",
      "3  [21.396813964843773, 21.490563964843773, 21.58...  \n",
      "4  [21.401544189453148, 21.495294189453148, 21.55...  \n",
      "5  [21.387780761718773, 21.481530761718773, 21.54...  \n",
      "6  [21.362847900390648, 21.425347900390648, 21.45...  \n",
      "7  [21.297631835937523, 21.360131835937523, 21.39...  \n",
      "8  [21.301873779296898, 21.333123779296898, 21.36...  \n"
     ]
    }
   ],
   "source": [
    "df = pd.DataFrame({\n",
    "    \"validDate\": [grb.validDate for grb in grbs],\n",
    "    \"depthBelowSea\": [grb.level for grb in grbs],\n",
    "    \"lats\": [[item for sublist in grb.data()[1] for item in sublist] for grb in grbs],\n",
    "    \"lons\": [[item for sublist in grb.data()[2] for item in sublist] for grb in grbs],\n",
    "    \"temperature\": [[item for sublist in (grb.data()[0] - 273.15) for item in sublist] for grb in grbs]\n",
    "})\n",
    "\n",
    "#-----------変更箇所-----------(深さの範囲を指定し、そこのデータのみをデータフレームに適応)\n",
    "min_depth = 10  # 最小深さ\n",
    "max_depth = 50  # 最大深さ\n",
    "filtered_df = df[(df[\"depthBelowSea\"] >= min_depth) & (df[\"depthBelowSea\"] <= max_depth)]\n",
    "\n",
    "print(filtered_df)\n",
    "#-----------変更箇所-----------"
   ]
  }
 ],
 "metadata": {
  "kernelspec": {
   "display_name": "machinelearning",
   "language": "python",
   "name": "python3"
  },
  "language_info": {
   "codemirror_mode": {
    "name": "ipython",
    "version": 3
   },
   "file_extension": ".py",
   "mimetype": "text/x-python",
   "name": "python",
   "nbconvert_exporter": "python",
   "pygments_lexer": "ipython3",
   "version": "3.12.7"
  }
 },
 "nbformat": 4,
 "nbformat_minor": 2
}
