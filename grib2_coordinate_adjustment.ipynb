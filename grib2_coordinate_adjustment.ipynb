{
  "nbformat": 4,
  "nbformat_minor": 0,
  "metadata": {
    "colab": {
      "provenance": []
    },
    "kernelspec": {
      "name": "python3",
      "display_name": "Python 3"
    },
    "language_info": {
      "name": "python"
    }
  },
  "cells": [
    {
      "cell_type": "code",
      "execution_count": null,
      "metadata": {
        "colab": {
          "base_uri": "https://localhost:8080/"
        },
        "id": "m3CSb0wxW23n",
        "outputId": "16e8f0f0-907e-493c-96aa-82a4d66010eb"
      },
      "outputs": [
        {
          "output_type": "stream",
          "name": "stdout",
          "text": [
            "Collecting pygrib\n",
            "  Downloading pygrib-2.1.6-cp310-cp310-manylinux_2_17_x86_64.manylinux2014_x86_64.whl.metadata (2.8 kB)\n",
            "Requirement already satisfied: packaging in /usr/local/lib/python3.10/dist-packages (from pygrib) (24.1)\n",
            "Requirement already satisfied: pyproj in /usr/local/lib/python3.10/dist-packages (from pygrib) (3.7.0)\n",
            "Requirement already satisfied: numpy in /usr/local/lib/python3.10/dist-packages (from pygrib) (1.26.4)\n",
            "Requirement already satisfied: certifi in /usr/local/lib/python3.10/dist-packages (from pyproj->pygrib) (2024.8.30)\n",
            "Downloading pygrib-2.1.6-cp310-cp310-manylinux_2_17_x86_64.manylinux2014_x86_64.whl (18.6 MB)\n",
            "\u001b[2K   \u001b[90m━━━━━━━━━━━━━━━━━━━━━━━━━━━━━━━━━━━━━━━━\u001b[0m \u001b[32m18.6/18.6 MB\u001b[0m \u001b[31m58.1 MB/s\u001b[0m eta \u001b[36m0:00:00\u001b[0m\n",
            "\u001b[?25hInstalling collected packages: pygrib\n",
            "Successfully installed pygrib-2.1.6\n"
          ]
        }
      ],
      "source": [
        "!pip install pygrib"
      ]
    },
    {
      "cell_type": "code",
      "source": [
        "from datetime import timedelta\n",
        "import pygrib\n",
        "import pandas as pd\n",
        "\n",
        "#time_diff = timedelta(hours=9)\n",
        "\n",
        "gpv_file = pygrib.open(\"WT_20240301_FD01.grib2.bin\")"
      ],
      "metadata": {
        "id": "L-HOST4MW8ik"
      },
      "execution_count": null,
      "outputs": []
    },
    {
      "cell_type": "code",
      "source": [
        "grbs = gpv_file.select(typeOfLevel=\"depthBelowSea\")\n",
        "grbs"
      ],
      "metadata": {
        "colab": {
          "base_uri": "https://localhost:8080/"
        },
        "id": "TlUZN4rNX0Be",
        "outputId": "3d482e6f-8f52-482d-e101-99434da75c96"
      },
      "execution_count": null,
      "outputs": [
        {
          "output_type": "execute_result",
          "data": {
            "text/plain": [
              "[1:Water temperature:K (avg):regular_ll:depthBelowSea:level 1.0:fcst time 0-24 hrs (avg):from 202402290000,\n",
              " 2:Water temperature:K (avg):regular_ll:depthBelowSea:level 3.5:fcst time 0-24 hrs (avg):from 202402290000,\n",
              " 3:Water temperature:K (avg):regular_ll:depthBelowSea:level 6.5:fcst time 0-24 hrs (avg):from 202402290000,\n",
              " 4:Water temperature:K (avg):regular_ll:depthBelowSea:level 10.0:fcst time 0-24 hrs (avg):from 202402290000,\n",
              " 5:Water temperature:K (avg):regular_ll:depthBelowSea:level 15.0:fcst time 0-24 hrs (avg):from 202402290000,\n",
              " 6:Water temperature:K (avg):regular_ll:depthBelowSea:level 22.0:fcst time 0-24 hrs (avg):from 202402290000,\n",
              " 7:Water temperature:K (avg):regular_ll:depthBelowSea:level 30.5:fcst time 0-24 hrs (avg):from 202402290000,\n",
              " 8:Water temperature:K (avg):regular_ll:depthBelowSea:level 40.0:fcst time 0-24 hrs (avg):from 202402290000,\n",
              " 9:Water temperature:K (avg):regular_ll:depthBelowSea:level 50.0:fcst time 0-24 hrs (avg):from 202402290000,\n",
              " 10:Water temperature:K (avg):regular_ll:depthBelowSea:level 60.0:fcst time 0-24 hrs (avg):from 202402290000,\n",
              " 11:Water temperature:K (avg):regular_ll:depthBelowSea:level 70.0:fcst time 0-24 hrs (avg):from 202402290000,\n",
              " 12:Water temperature:K (avg):regular_ll:depthBelowSea:level 80.0:fcst time 0-24 hrs (avg):from 202402290000,\n",
              " 13:Water temperature:K (avg):regular_ll:depthBelowSea:level 90.0:fcst time 0-24 hrs (avg):from 202402290000,\n",
              " 14:Water temperature:K (avg):regular_ll:depthBelowSea:level 100.0:fcst time 0-24 hrs (avg):from 202402290000,\n",
              " 15:Water temperature:K (avg):regular_ll:depthBelowSea:level 110.0:fcst time 0-24 hrs (avg):from 202402290000,\n",
              " 16:Water temperature:K (avg):regular_ll:depthBelowSea:level 120.0:fcst time 0-24 hrs (avg):from 202402290000,\n",
              " 17:Water temperature:K (avg):regular_ll:depthBelowSea:level 130.0:fcst time 0-24 hrs (avg):from 202402290000,\n",
              " 18:Water temperature:K (avg):regular_ll:depthBelowSea:level 140.0:fcst time 0-24 hrs (avg):from 202402290000,\n",
              " 19:Water temperature:K (avg):regular_ll:depthBelowSea:level 150.0:fcst time 0-24 hrs (avg):from 202402290000,\n",
              " 20:Water temperature:K (avg):regular_ll:depthBelowSea:level 160.0:fcst time 0-24 hrs (avg):from 202402290000,\n",
              " 21:Water temperature:K (avg):regular_ll:depthBelowSea:level 170.0:fcst time 0-24 hrs (avg):from 202402290000,\n",
              " 22:Water temperature:K (avg):regular_ll:depthBelowSea:level 180.0:fcst time 0-24 hrs (avg):from 202402290000,\n",
              " 23:Water temperature:K (avg):regular_ll:depthBelowSea:level 190.0:fcst time 0-24 hrs (avg):from 202402290000,\n",
              " 24:Water temperature:K (avg):regular_ll:depthBelowSea:level 200.0:fcst time 0-24 hrs (avg):from 202402290000,\n",
              " 25:Water temperature:K (avg):regular_ll:depthBelowSea:level 212.5:fcst time 0-24 hrs (avg):from 202402290000,\n",
              " 26:Water temperature:K (avg):regular_ll:depthBelowSea:level 230.0:fcst time 0-24 hrs (avg):from 202402290000,\n",
              " 27:Water temperature:K (avg):regular_ll:depthBelowSea:level 250.0:fcst time 0-24 hrs (avg):from 202402290000,\n",
              " 28:Water temperature:K (avg):regular_ll:depthBelowSea:level 272.5:fcst time 0-24 hrs (avg):from 202402290000,\n",
              " 29:Water temperature:K (avg):regular_ll:depthBelowSea:level 300.0:fcst time 0-24 hrs (avg):from 202402290000,\n",
              " 30:Water temperature:K (avg):regular_ll:depthBelowSea:level 330.0:fcst time 0-24 hrs (avg):from 202402290000,\n",
              " 31:Water temperature:K (avg):regular_ll:depthBelowSea:level 362.5:fcst time 0-24 hrs (avg):from 202402290000,\n",
              " 32:Water temperature:K (avg):regular_ll:depthBelowSea:level 400.0:fcst time 0-24 hrs (avg):from 202402290000,\n",
              " 33:Water temperature:K (avg):regular_ll:depthBelowSea:level 440.0:fcst time 0-24 hrs (avg):from 202402290000,\n",
              " 34:Water temperature:K (avg):regular_ll:depthBelowSea:level 485.0:fcst time 0-24 hrs (avg):from 202402290000,\n",
              " 35:Water temperature:K (avg):regular_ll:depthBelowSea:level 540.0:fcst time 0-24 hrs (avg):from 202402290000,\n",
              " 36:Water temperature:K (avg):regular_ll:depthBelowSea:level 600.0:fcst time 0-24 hrs (avg):from 202402290000,\n",
              " 37:Water temperature:K (avg):regular_ll:depthBelowSea:level 665.0:fcst time 0-24 hrs (avg):from 202402290000,\n",
              " 38:Water temperature:K (avg):regular_ll:depthBelowSea:level 740.0:fcst time 0-24 hrs (avg):from 202402290000,\n",
              " 39:Water temperature:K (avg):regular_ll:depthBelowSea:level 820.0:fcst time 0-24 hrs (avg):from 202402290000,\n",
              " 40:Water temperature:K (avg):regular_ll:depthBelowSea:level 905.0:fcst time 0-24 hrs (avg):from 202402290000,\n",
              " 41:Water temperature:K (avg):regular_ll:depthBelowSea:level 1000.0:fcst time 0-24 hrs (avg):from 202402290000]"
            ]
          },
          "metadata": {},
          "execution_count": 3
        }
      ]
    },
    {
      "cell_type": "code",
      "source": [
        "df = pd.DataFrame({\n",
        "    \"validDate\": [grb.validDate for grb in grbs],\n",
        "    \"depthBelowSea\": [grb.level for grb in grbs],\n",
        "    \"lats\": [[item for sublist in grb.data()[1] for item in sublist] for grb in grbs],\n",
        "    \"lons\": [[item for sublist in grb.data()[2] for item in sublist] for grb in grbs],\n",
        "    \"temperature\": [[item for sublist in (grb.data()[0] - 273.15) for item in sublist] for grb in grbs]\n",
        "})\n",
        "\n",
        "#-----------変更箇所-----------(深さの範囲を指定し、そこのデータのみをデータフレームに適応)\n",
        "min_depth = 10  # 最小深さ\n",
        "max_depth = 50  # 最大深さ\n",
        "filtered_df = df[(df[\"depthBelowSea\"] >= min_depth) & (df[\"depthBelowSea\"] <= max_depth)]\n",
        "\n",
        "print(filtered_df)\n",
        "#-----------変更箇所-----------"
      ],
      "metadata": {
        "colab": {
          "base_uri": "https://localhost:8080/"
        },
        "id": "khNtLvhpXE7p",
        "outputId": "58e7e907-556f-4022-f3e7-d47745329a3f"
      },
      "execution_count": null,
      "outputs": [
        {
          "output_type": "stream",
          "name": "stdout",
          "text": [
            "   validDate  depthBelowSea  \\\n",
            "3 2024-02-29             10   \n",
            "4 2024-02-29             15   \n",
            "5 2024-02-29             22   \n",
            "6 2024-02-29             31   \n",
            "7 2024-02-29             40   \n",
            "8 2024-02-29             50   \n",
            "\n",
            "                                                lats  \\\n",
            "3  [33.0, 33.0, 33.0, 33.0, 33.0, 33.0, 33.0, 33....   \n",
            "4  [33.0, 33.0, 33.0, 33.0, 33.0, 33.0, 33.0, 33....   \n",
            "5  [33.0, 33.0, 33.0, 33.0, 33.0, 33.0, 33.0, 33....   \n",
            "6  [33.0, 33.0, 33.0, 33.0, 33.0, 33.0, 33.0, 33....   \n",
            "7  [33.0, 33.0, 33.0, 33.0, 33.0, 33.0, 33.0, 33....   \n",
            "8  [33.0, 33.0, 33.0, 33.0, 33.0, 33.0, 33.0, 33....   \n",
            "\n",
            "                                                lons  \\\n",
            "3  [134.0, 134.03030301538462, 134.06060603076924...   \n",
            "4  [134.0, 134.03030301538462, 134.06060603076924...   \n",
            "5  [134.0, 134.03030301538462, 134.06060603076924...   \n",
            "6  [134.0, 134.03030301538462, 134.06060603076924...   \n",
            "7  [134.0, 134.03030301538462, 134.06060603076924...   \n",
            "8  [134.0, 134.03030301538462, 134.06060603076924...   \n",
            "\n",
            "                                         temperature  \n",
            "3  [21.396813964843773, 21.490563964843773, 21.58...  \n",
            "4  [21.401544189453148, 21.495294189453148, 21.55...  \n",
            "5  [21.387780761718773, 21.481530761718773, 21.54...  \n",
            "6  [21.362847900390648, 21.425347900390648, 21.45...  \n",
            "7  [21.297631835937523, 21.360131835937523, 21.39...  \n",
            "8  [21.301873779296898, 21.333123779296898, 21.36...  \n"
          ]
        }
      ]
    }
  ]
}